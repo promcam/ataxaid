{
 "cells": [
  {
   "cell_type": "code",
   "execution_count": 1,
   "metadata": {},
   "outputs": [],
   "source": [
    "# Import main library\n",
    "import os\n",
    "import sys\n",
    "PROJ_DIR = os.path.realpath(os.path.dirname(os.path.abspath('')))\n",
    "sys.path.append(os.path.join(PROJ_DIR,'src'))\n",
    "import ataxai"
   ]
  },
  {
   "cell_type": "code",
   "execution_count": 2,
   "metadata": {},
   "outputs": [
    {
     "name": "stdout",
     "output_type": "stream",
     "text": [
      "Extracting entities from ../data/informe_ejemplo_en.txt...\n",
      "Las entidades extraídas por en_ner_bc5cdr_md con negaciones son:\n",
      "headache                         DISEASE NEGATED\n",
      "right homonymous hemianopsia     DISEASE \n",
      "bleeding                         DISEASE \n",
      "appetite                         DISEASE \n",
      "gait disturbances hearing deficits DISEASE \n",
      "disorientation                   DISEASE \n",
      "sensorineural hearing and visual deficits meningism DISEASE \n",
      "fever                            DISEASE NEGATED\n",
      "ataxic gait                      DISEASE NEGATED\n",
      "dementia forgetfulness           DISEASE NEGATED\n",
      "apathy                           DISEASE NEGATED\n",
      "right occipital bleeding         DISEASE \n",
      "haemosiderin                     DISEASE \n",
      "siderosis                        DISEASE \n",
      "lactate                          CHEMICAL \n",
      "glucose                          CHEMICAL \n",
      "vasculitis                       DISEASE \n",
      "antinuclear                      DISEASE \n",
      "ANA                              CHEMICAL \n",
      "desferrioxamine                  CHEMICAL \n",
      "cerebral bleeding                DISEASE \n",
      "death                            DISEASE \n",
      "subarachnoid haemorrhage         DISEASE \n",
      "herniation                       DISEASE \n",
      "undifferentiated carcinoma left occipital and right parietooccipital but no primary tumour DISEASE \n",
      "siderosis                        DISEASE \n",
      "bleeding                         DISEASE \n",
      "ataxia hypoacusis                DISEASE \n",
      "dementia                         DISEASE \n",
      "trauma                           DISEASE \n",
      "siderosis                        DISEASE \n"
     ]
    }
   ],
   "source": [
    "FILE_PATH = '../data/informe_ejemplo_en.txt'\n",
    "print(f'Extracting entities from {FILE_PATH}...')\n",
    "entities = ataxai.extract_entities_from_file(FILE_PATH)\n",
    "\n",
    "print('Las entidades extraídas por en_ner_bc5cdr_md con negaciones son:')\n",
    "for element in entities:\n",
    "    negated = \"NEGATED\" if element._.negex else \"\"\n",
    "    print(f'{element.text:32s} {element.label_} {negated}')"
   ]
  },
  {
   "cell_type": "code",
   "execution_count": 5,
   "metadata": {},
   "outputs": [
    {
     "name": "stderr",
     "output_type": "stream",
     "text": [
      "WARNING:root:More than one HPOMatch for bleeding\n",
      "WARNING:root:More than one HPOMatch for appetite\n",
      "WARNING:root:More than one HPOMatch for gait disturbances hearing deficits\n"
     ]
    },
    {
     "name": "stdout",
     "output_type": "stream",
     "text": [
      "Buscando \"headache\" en HPO...\n",
      "\tHP:0030907 - Thunderclap headache (headache vs. Thunderclap headache - dist=1)\n",
      "Buscando \"right homonymous hemianopsia\" en HPO...\n",
      "\tHP:0030516 - Homonymous hemianopia (homonymous hemianopsia vs. Homonymous hemianopsia - dist=0)\n",
      "Buscando \"bleeding\" en HPO...\n",
      "\tHP:0100608 - Metrorrhagia (bleeding vs. Intermenstrual bleeding - dist=1)\n",
      "\tHP:0100608 - Metrorrhagia (bleeding vs. Metrorrhagia - dist=1)\n",
      "Buscando \"appetite\" en HPO...\n",
      "\tHP:0004396 - Poor appetite (appetite vs. Decreased appetite - dist=1)\n",
      "\tHP:0004396 - Poor appetite (appetite vs. No appetite - dist=1)\n",
      "\tHP:0004396 - Poor appetite (appetite vs. Poor appetite - dist=1)\n",
      "\tHP:0004396 - Poor appetite (appetite vs. Poor appetite - dist=1)\n",
      "Buscando \"gait disturbances hearing deficits\" en HPO...\n",
      "\tHP:0100543 - Cognitive impairment (deficits vs. Cognitive deficits - dist=1)\n",
      "Buscando \"disorientation\" en HPO...\n",
      "\tHP:0001289 - Confusion (disorientation vs. Disorientation - dist=0)\n",
      "Buscando \"sensorineural hearing and visual deficits meningism\" en HPO...\n"
     ]
    },
    {
     "name": "stderr",
     "output_type": "stream",
     "text": [
      "WARNING:root:More than one HPOMatch for ataxic gait\n",
      "WARNING:root:More than one HPOMatch for right occipital bleeding\n",
      "WARNING:root:More than one HPOMatch for vasculitis\n",
      "WARNING:root:More than one HPOMatch for cerebral bleeding\n"
     ]
    },
    {
     "name": "stdout",
     "output_type": "stream",
     "text": [
      "\tHP:0100543 - Cognitive impairment (deficits vs. Cognitive deficits - dist=1)\n",
      "Buscando \"fever\" en HPO...\n",
      "\tHP:0033399 - Persistent fever (fever vs. Persistent fever - dist=1)\n",
      "Buscando \"ataxic gait\" en HPO...\n",
      "\tHP:0002066 - Gait ataxia (ataxic gait vs. Ataxic gait - dist=0)\n",
      "\tHP:0002066 - Gait ataxia (ataxic gait vs. Gait ataxia - dist=0)\n",
      "Buscando \"dementia forgetfulness\" en HPO...\n",
      "\tHP:0030219 - Semantic dementia (dementia vs. Semantic dementia - dist=1)\n",
      "Buscando \"apathy\" en HPO...\n",
      "\tHP:0000741 - Apathy (apathy vs. Apathy - dist=0)\n",
      "Buscando \"right occipital bleeding\" en HPO...\n",
      "\tHP:0100608 - Metrorrhagia (bleeding vs. Intermenstrual bleeding - dist=1)\n",
      "\tHP:0100608 - Metrorrhagia (bleeding vs. Metrorrhagia - dist=1)\n",
      "Buscando \"haemosiderin\" en HPO...\n",
      "\tNo se han detectado términos HPO para \"haemosiderin\"\n",
      "Buscando \"siderosis\" en HPO...\n",
      "\tNo se han detectado términos HPO para \"siderosis\"\n",
      "Buscando \"lactate\" en HPO...\n",
      "\tNo se han detectado términos HPO para \"lactate\"\n",
      "Buscando \"glucose\" en HPO...\n",
      "\tNo se han detectado términos HPO para \"glucose\"\n",
      "Buscando \"vasculitis\" en HPO...\n",
      "\tHP:3000037 - Abnormal neck blood vessel morphology (vasculitis vs. Abnormality of neck blood vessel - dist=5)\n",
      "\tHP:3000037 - Abnormal neck blood vessel morphology (vasculitis vs. Abnormality of the cervical vasculature - dist=5)\n",
      "\tHP:3000037 - Abnormal neck blood vessel morphology (vasculitis vs. Abnormal neck blood vessel morphology - dist=5)\n",
      "Buscando \"antinuclear\" en HPO...\n",
      "\tHP:0003493 - Antinuclear antibody positivity (antinuclear vs. Antinuclear antibodies - dist=1)\n",
      "Buscando \"ANA\" en HPO...\n",
      "\tNo se han detectado términos HPO para \"ANA\"\n",
      "Buscando \"desferrioxamine\" en HPO...\n",
      "\tNo se han detectado términos HPO para \"desferrioxamine\"\n",
      "Buscando \"cerebral bleeding\" en HPO...\n"
     ]
    },
    {
     "name": "stderr",
     "output_type": "stream",
     "text": [
      "WARNING:root:More than one HPOMatch for herniation\n"
     ]
    },
    {
     "name": "stdout",
     "output_type": "stream",
     "text": [
      "\tHP:0100608 - Metrorrhagia (bleeding vs. Intermenstrual bleeding - dist=1)\n",
      "\tHP:0100608 - Metrorrhagia (bleeding vs. Metrorrhagia - dist=1)\n",
      "Buscando \"death\" en HPO...\n",
      "\tHP:0100758 - Gangrene (death vs. Gangrene - dist=1)\n",
      "Buscando \"subarachnoid haemorrhage\" en HPO...\n",
      "\tHP:0002138 - Subarachnoid hemorrhage (subarachnoid haemorrhage vs. Subarachnoid haemorrhage - dist=0)\n",
      "Buscando \"herniation\" en HPO...\n",
      "\tHP:0008441 - Herniation of intervertebral nuclei (herniation vs. Herniated disc - dist=1)\n",
      "\tHP:0008441 - Herniation of intervertebral nuclei (herniation vs. Herniated disk - dist=1)\n",
      "Buscando \"undifferentiated carcinoma left occipital and right parietooccipital but no primary tumour\" en HPO...\n"
     ]
    },
    {
     "name": "stderr",
     "output_type": "stream",
     "text": [
      "WARNING:root:More than one HPOMatch for bleeding\n",
      "WARNING:root:More than one HPOMatch for trauma\n"
     ]
    },
    {
     "name": "stdout",
     "output_type": "stream",
     "text": [
      "\tHP:0030447 - Merkel cell skin cancer (undifferentiated carcinoma vs. Cutaneous APUDoma - dist=2)\n",
      "Buscando \"siderosis\" en HPO...\n",
      "\tNo se han detectado términos HPO para \"siderosis\"\n",
      "Buscando \"bleeding\" en HPO...\n",
      "\tHP:0100608 - Metrorrhagia (bleeding vs. Intermenstrual bleeding - dist=1)\n",
      "\tHP:0100608 - Metrorrhagia (bleeding vs. Metrorrhagia - dist=1)\n",
      "Buscando \"ataxia hypoacusis\" en HPO...\n",
      "\tHP:0000365 - Hearing impairment (hypoacusis vs. Hypoacusis - dist=0)\n",
      "Buscando \"dementia\" en HPO...\n",
      "\tHP:0030219 - Semantic dementia (dementia vs. Semantic dementia - dist=1)\n",
      "Buscando \"trauma\" en HPO...\n",
      "\tHP:0500260 - Triggered by head trauma (trauma vs. Head trauma triggered symptoms - dist=3)\n",
      "\tHP:0500260 - Triggered by head trauma (trauma vs. Triggered by head trauma - dist=3)\n",
      "Buscando \"siderosis\" en HPO...\n",
      "\tNo se han detectado términos HPO para \"siderosis\"\n"
     ]
    }
   ],
   "source": [
    "processed = {} # Keep track of processed entities to avoid duplicates\n",
    "all_matches:list[ataxai.HPOMatch] = []\n",
    "unmatched:list[str] = []\n",
    "for entity in entities:\n",
    "    if entity in processed: # Skip entities that have already been processed\n",
    "        continue\n",
    "    processed[element.text] = True\n",
    "    print(f'Buscando \"{entity.text}\" en HPO...')\n",
    "    matches = ataxai.get_HPO_matches(entity)\n",
    "\n",
    "    if len(matches) > 0:\n",
    "        for m in matches:\n",
    "            print(f'\\t{m.HPO.id} - {m.HPO.name} ({m.query} vs. {m.matching_HPO_term} - dist={m.distance})')\n",
    "    else:\n",
    "        print(f'\\tNo se han detectado términos HPO para \"{entity.text}\"')"
   ]
  }
 ],
 "metadata": {
  "kernelspec": {
   "display_name": "informes",
   "language": "python",
   "name": "python3"
  },
  "language_info": {
   "codemirror_mode": {
    "name": "ipython",
    "version": 3
   },
   "file_extension": ".py",
   "mimetype": "text/x-python",
   "name": "python",
   "nbconvert_exporter": "python",
   "pygments_lexer": "ipython3",
   "version": "3.11.5"
  },
  "orig_nbformat": 4
 },
 "nbformat": 4,
 "nbformat_minor": 2
}
